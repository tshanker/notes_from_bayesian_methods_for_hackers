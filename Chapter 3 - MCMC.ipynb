{
 "cells": [
  {
   "cell_type": "markdown",
   "metadata": {
    "collapsed": true
   },
   "source": [
    "This chapter aims to answer the following:\n",
    "\n",
    "+ What is MCMC?\n",
    "+ How do we know that it has converged?\n",
    "+ Why do we need samples?"
   ]
  },
  {
   "cell_type": "code",
   "execution_count": 1,
   "metadata": {
    "collapsed": true
   },
   "outputs": [],
   "source": [
    "%matplotlib inline\n",
    "import scipy.stats as stats\n",
    "import numpy as np\n",
    "import matplotlib.pyplot as plt"
   ]
  },
  {
   "cell_type": "markdown",
   "metadata": {},
   "source": [
    "## Unsupervised Clustering using a Mixture Model"
   ]
  },
  {
   "cell_type": "code",
   "execution_count": 3,
   "metadata": {
    "collapsed": false
   },
   "outputs": [
    {
     "data": {
      "image/png": "[encoded data removed]",
      "text/plain": [
       "<matplotlib.figure.Figure at 0x1fc5c88ef98>"
      ]
     },
     "metadata": {},
     "output_type": "display_data"
    }
   ],
   "source": [
    "#Dataset:\n",
    "\n",
    "data = np.loadtxt(\"data/mixture_data.csv\", delimiter = \",\")\n",
    "\n",
    "plt.hist(data, bins = 30, histtype =\"stepfilled\", \n",
    "        alpha = 0.5);"
   ]
  },
  {
   "cell_type": "markdown",
   "metadata": {},
   "source": [
    "This data looks bimodal. How could the data have been generated?\n",
    "\n",
    "1. For each data point, choose cluster 1 with probability $p$, else choose cluster 2.\n",
    "1. Draw a random variate from a normal distribution with parameters $\\mu_i$ and $\\sigma_i$ where $i$ was chosen in step 1.\n",
    "1. Repeat.\n",
    "\n",
    "We will need to infer or learn model parameters."
   ]
  },
  {
   "cell_type": "code",
   "execution_count": 4,
   "metadata": {
    "collapsed": true
   },
   "outputs": [],
   "source": [
    "import pymc as pm\n",
    "\n",
    "p = pm.Uniform(\"p\", 0, 1)\n",
    "\n",
    "assignment = pm.Categorical(\"assignment\", [p, 1-p],\n",
    "                           size = data.shape[0])"
   ]
  },
  {
   "cell_type": "markdown",
   "metadata": {},
   "source": [
    "Variances of the two Normals seem different. We'll need to transform standard deviation to precision such that:\n",
    "\n",
    "$\\tau = \\dfrac{1}{\\sigma_2}$"
   ]
  },
  {
   "cell_type": "code",
   "execution_count": 6,
   "metadata": {
    "collapsed": false
   },
   "outputs": [],
   "source": [
    "taus = 1.0 / pm.Uniform(\"stds\", 0, 100, size = 2)**2\n",
    "centers = pm.Normal(\"centers\", [120, 190], [0.01, 0.01], size =2)\n",
    "\n",
    "@pm.deterministic\n",
    "def center_i(assignment = assignment, centers = centers):\n",
    "    return centers[assignment]\n",
    "\n",
    "@pm.deterministic\n",
    "def tau_i(assignment = assignment, taus=taus):\n",
    "    return taus[assignment]"
   ]
  },
  {
   "cell_type": "code",
   "execution_count": 7,
   "metadata": {
    "collapsed": false
   },
   "outputs": [
    {
     "name": "stdout",
     "output_type": "stream",
     "text": [
      " [-----------------100%-----------------] 50000 of 50000 complete in 21.1 sec"
     ]
    }
   ],
   "source": [
    "observations = pm.Normal(\"obs\", center_i, tau_i, value = data,\n",
    "                        observed = True)\n",
    "\n",
    "model = pm.Model([p, assignment, observations, taus, centers])\n",
    "\n",
    "mcmc = pm.MCMC(model)\n",
    "mcmc.sample(50000)"
   ]
  },
  {
   "cell_type": "code",
   "execution_count": 8,
   "metadata": {
    "collapsed": false
   },
   "outputs": [
    {
     "name": "stdout",
     "output_type": "stream",
     "text": [
      " [-----------------100%-----------------] 100000 of 100000 complete in 42.2 sec"
     ]
    }
   ],
   "source": [
    "mcmc.sample(100000)"
   ]
  },
  {
   "cell_type": "code",
   "execution_count": null,
   "metadata": {
    "collapsed": true
   },
   "outputs": [],
   "source": []
  }
 ],
 "metadata": {
  "anaconda-cloud": {},
  "kernelspec": {
   "display_name": "Python [Root]",
   "language": "python",
   "name": "Python [Root]"
  },
  "language_info": {
   "codemirror_mode": {
    "name": "ipython",
    "version": 3
   },
   "file_extension": ".py",
   "mimetype": "text/x-python",
   "name": "python",
   "nbconvert_exporter": "python",
   "pygments_lexer": "ipython3",
   "version": "3.5.2"
  }
 },
 "nbformat": 4,
 "nbformat_minor": 0
}
