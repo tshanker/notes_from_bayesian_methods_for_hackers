{
 "cells": [
  {
   "cell_type": "markdown",
   "metadata": {},
   "source": [
    "References: \n",
    "+ [Domino Blog](https://blog.dominodatalab.com/ab-testing-with-hierarchical-models-in-python/)\n",
    "+ [Hierarchical Model](http://sl8r000.github.io/ab_testing_statistics/use_a_hierarchical_model/)\n"
   ]
  },
  {
   "cell_type": "code",
   "execution_count": 2,
   "metadata": {
    "collapsed": true
   },
   "outputs": [],
   "source": [
    "import pymc as pm\n",
    "import numpy as np"
   ]
  },
  {
   "cell_type": "markdown",
   "metadata": {},
   "source": [
    "# Standard 2 website case"
   ]
  },
  {
   "cell_type": "code",
   "execution_count": 5,
   "metadata": {
    "collapsed": false
   },
   "outputs": [
    {
     "data": {
      "text/plain": [
       "(1055,)"
      ]
     },
     "execution_count": 5,
     "metadata": {},
     "output_type": "execute_result"
    }
   ],
   "source": [
    "# Website A had 1055 clicks and 28 sign-ups \n",
    "values_A = np.hstack(([0]*(1055-28),[1]*28)) \n",
    "# Website B had 1057 clicks and 45 sign-ups \n",
    "values_B = np.hstack(([0]*(1057-45),[1]*45)) "
   ]
  },
  {
   "cell_type": "code",
   "execution_count": 6,
   "metadata": {
    "collapsed": true
   },
   "outputs": [],
   "source": [
    "p_A = pm.Uniform(\"p_A\", 0, 1)\n",
    "p_B = pm.Uniform(\"p_B\", 0, 1)\n",
    "\n",
    "@pm.deterministic\n",
    "def delta(p_A = p_A, p_B = p_B):\n",
    "    return p_B - p_A"
   ]
  },
  {
   "cell_type": "code",
   "execution_count": 7,
   "metadata": {
    "collapsed": false
   },
   "outputs": [
    {
     "name": "stdout",
     "output_type": "stream",
     "text": [
      " [-----------------100%-----------------] 1000000 of 1000000 complete in 90.1 sec"
     ]
    }
   ],
   "source": [
    "obs_A = pm.Bernoulli(\"obs_A\", p_A, value = values_A,\n",
    "                    observed = True)\n",
    "obs_B = pm.Bernoulli(\"obs_B\", p_B, value = values_B,\n",
    "                    observed = True)\n",
    "\n",
    "model = pm.Model([p_A, p_B, delta, values_A, values_B])\n",
    "mcmc = pm.MCMC(model)\n",
    "\n",
    "mcmc.sample(1000000, 500000)"
   ]
  },
  {
   "cell_type": "code",
   "execution_count": 11,
   "metadata": {
    "collapsed": false
   },
   "outputs": [
    {
     "data": {
      "image/png": "[encoded data removed]",
      "text/plain": [
       "<matplotlib.figure.Figure at 0x1bca3b0c208>"
      ]
     },
     "metadata": {},
     "output_type": "display_data"
    }
   ],
   "source": [
    "delta_samples = mcmc.trace(\"delta\")[:]\n",
    "\n",
    "import matplotlib.pyplot as plt\n",
    "%matplotlib inline\n",
    "\n",
    "plt.hist(delta_samples, histtype = \"stepfilled\",\n",
    "        normed = True, alpha = 0.5, bins = 30);"
   ]
  },
  {
   "cell_type": "code",
   "execution_count": 12,
   "metadata": {
    "collapsed": false
   },
   "outputs": [
    {
     "data": {
      "text/plain": [
       "0.022107999999999999"
      ]
     },
     "execution_count": 12,
     "metadata": {},
     "output_type": "execute_result"
    }
   ],
   "source": [
    "(delta_samples < 0).mean()"
   ]
  },
  {
   "cell_type": "code",
   "execution_count": 13,
   "metadata": {
    "collapsed": false
   },
   "outputs": [
    {
     "data": {
      "text/plain": [
       "0.97789199999999998"
      ]
     },
     "execution_count": 13,
     "metadata": {},
     "output_type": "execute_result"
    }
   ],
   "source": [
    "(delta_samples > 0).mean()"
   ]
  },
  {
   "cell_type": "markdown",
   "metadata": {},
   "source": [
    "This works well for two designs, but we run into the multiple testing problem.\n",
    "\n",
    "In particular:\n",
    "*For these two websites, we see that website B outperforms website A. This worked well for two websites, but if we tried this for all pairs of our five websites, we run the risk of getting a “false positive problem” due to the multiple testing problem. There are 10 possible pairs, so assume we test all possible pairs independently at an alpha = 0.05 level. For each test, we have a 95% chance of not getting a false positive, so the probability that all the tests do not yield a false positive is (0.95)10, which is roughly equal to 0.60. This means the probability of getting at least one false positive result is about 0.40 or 40%. If we had more websites and thus more pairs to test, the probability of getting a false positive would only increase.*\n",
    "\n",
    "*As you can see, without correcting for multiple testing, we run a high risk of encountering a false positive result. In the next section, I’ll show how hierarchical models implicitly correct for this multiple testing pitfall and yield more accurate results.\n",
    "*"
   ]
  },
  {
   "cell_type": "markdown",
   "metadata": {},
   "source": [
    "## Hierarchical Modeling"
   ]
  },
  {
   "cell_type": "markdown",
   "metadata": {},
   "source": [
    "Let's model the website signup using Binomial Distribution instead."
   ]
  },
  {
   "cell_type": "code",
   "execution_count": 22,
   "metadata": {
    "collapsed": false
   },
   "outputs": [
    {
     "data": {
      "text/plain": [
       "array([ 0.4157988 ,  0.93296476,  0.60949765,  0.68544138,  0.35849882])"
      ]
     },
     "execution_count": 22,
     "metadata": {},
     "output_type": "execute_result"
    }
   ],
   "source": [
    "@pm.stochastic(dtype =np.float64)\n",
    "def beta_priors(value = [1.0,1.0]):\n",
    "    a, b = value\n",
    "    if a <= 0 or b <= 0:\n",
    "        return -np.inf\n",
    "    else:\n",
    "        return np.log(np.power((a+b), -2.5))\n",
    "\n",
    "a = beta_priors[0]\n",
    "b = beta_priors[1]\n",
    "\n",
    "# This is the key part, \n",
    "# we model true rates as coming from the same distribution\n",
    "true_rates = pm.Beta(\"true_rates\", a, b, size=5)\n",
    "\n",
    "trials = np.array([1055, 1057, 1065, 1039, 1046])\n",
    "successes = np.array([28, 45, 69, 58, 60])\n",
    "observed_values = pm.Binomial(\"observed_values\", trials,\n",
    "                             true_rates, observed = True, \n",
    "                             value = successes)\n",
    "\n",
    "model = pm.Model([a, b, true_rates, observed_values])\n",
    "mcmc = pm.MCMC(model)\n",
    "\n",
    "true_rates.value"
   ]
  },
  {
   "cell_type": "code",
   "execution_count": null,
   "metadata": {
    "collapsed": true
   },
   "outputs": [],
   "source": [
    "mcmc.sample(1000000, 500000)"
   ]
  }
 ],
 "metadata": {
  "anaconda-cloud": {},
  "kernelspec": {
   "display_name": "Python [Root]",
   "language": "python",
   "name": "Python [Root]"
  },
  "language_info": {
   "codemirror_mode": {
    "name": "ipython",
    "version": 3
   },
   "file_extension": ".py",
   "mimetype": "text/x-python",
   "name": "python",
   "nbconvert_exporter": "python",
   "pygments_lexer": "ipython3",
   "version": "3.5.2"
  }
 },
 "nbformat": 4,
 "nbformat_minor": 0
}
