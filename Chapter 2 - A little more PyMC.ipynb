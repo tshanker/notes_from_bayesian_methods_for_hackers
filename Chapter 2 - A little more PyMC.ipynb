{
 "cells": [
  {
   "cell_type": "markdown",
   "metadata": {},
   "source": [
    "# Parent Child Relationships\n",
    "\n",
    "+ *parent variables* influence other variables\n",
    "+ *child variables* are influenced by other variables\n",
    "\n",
    "Most of the initial part is self explanatory if you're familiar with random variables.\n",
    "\n",
    "Stochastic variables are non deterministic.\n",
    "\n",
    "Each stochastic variable will need to be initialized by using something like `pm.Uniform()` - use `??` to check what parameters are needed."
   ]
  },
  {
   "cell_type": "markdown",
   "metadata": {},
   "source": [
    "## Including observations in the Model\n",
    "\n",
    "PyMC stochastic variables have a keyword `observed` which accepts a boolean(`False` by default). The keyword `observed` has a very simple role - fix the variables current value, i.e. make `value` immutable. We have to specify an initial `value` in the variable's creation, equal to the observations we wish to include."
   ]
  },
  {
   "cell_type": "markdown",
   "metadata": {},
   "source": [
    "### Modeling Approach\n",
    "\n",
    "Main point here is to think of the data generation process."
   ]
  },
  {
   "cell_type": "markdown",
   "metadata": {},
   "source": [
    "# Bayesian A/B Testing\n",
    "\n",
    "Let's start off with just A"
   ]
  },
  {
   "cell_type": "code",
   "execution_count": 123,
   "metadata": {
    "collapsed": false
   },
   "outputs": [],
   "source": [
    "import pymc as pm"
   ]
  },
  {
   "cell_type": "code",
   "execution_count": 159,
   "metadata": {
    "collapsed": true
   },
   "outputs": [],
   "source": [
    "#p = pm.Beta(\"p\", alpha = 30, beta = 30)\n",
    "p = pm.Uniform(\"p\", lower = 0, upper = 1)"
   ]
  },
  {
   "cell_type": "code",
   "execution_count": 160,
   "metadata": {
    "collapsed": true
   },
   "outputs": [],
   "source": [
    "p_true = 0.05\n",
    "N = 50\n",
    "\n",
    "# generate data using p_true\n",
    "occurrences = pm.rbernoulli(p_true, N)"
   ]
  },
  {
   "cell_type": "code",
   "execution_count": 161,
   "metadata": {
    "collapsed": false
   },
   "outputs": [
    {
     "name": "stdout",
     "output_type": "stream",
     "text": [
      " [-----------------100%-----------------] 20000 of 20000 complete in 1.0 sec"
     ]
    }
   ],
   "source": [
    "# include observations which are bernoulli\n",
    "\n",
    "obs  = pm.Bernoulli(\"obs\", p , value = occurrences, observed = True)\n",
    "\n",
    "mcmc = pm.MCMC([p, obs])\n",
    "mcmc.sample(20000, 1000)"
   ]
  },
  {
   "cell_type": "code",
   "execution_count": 163,
   "metadata": {
    "collapsed": false
   },
   "outputs": [
    {
     "data": {
      "text/plain": [
       "<matplotlib.collections.LineCollection at 0x26d94dd2e80>"
      ]
     },
     "execution_count": 163,
     "metadata": {},
     "output_type": "execute_result"
    },
    {
     "data": {
      "image/png": "[encoded data removed]",
      "text/plain": [
       "<matplotlib.figure.Figure at 0x26d960c1320>"
      ]
     },
     "metadata": {},
     "output_type": "display_data"
    }
   ],
   "source": [
    "import matplotlib.pyplot as plt\n",
    "%matplotlib inline\n",
    "plt.hist(mcmc.trace(\"p\")[:], bins = 30, \n",
    "         histtype = \"stepfilled\", normed = True,\n",
    "        alpha = 0.5)\n",
    "plt.vlines(p_true, 0, 90)"
   ]
  },
  {
   "cell_type": "markdown",
   "metadata": {},
   "source": [
    "## A & B together"
   ]
  },
  {
   "cell_type": "code",
   "execution_count": 211,
   "metadata": {
    "collapsed": false
   },
   "outputs": [
    {
     "name": "stdout",
     "output_type": "stream",
     "text": [
      "0.0493333333333\n",
      "0.038\n"
     ]
    }
   ],
   "source": [
    "import pymc as pm\n",
    "\n",
    "true_p_A = 0.05\n",
    "true_p_B = 0.045\n",
    "\n",
    "n_A = 1500\n",
    "n_B = 1500\n",
    "\n",
    "# Some random observations\n",
    "observations_A = pm.rbernoulli(true_p_A, n_A)\n",
    "observations_B = pm.rbernoulli(true_p_B, n_B)\n",
    "\n",
    "print(observations_A.mean())\n",
    "print(observations_B.mean())"
   ]
  },
  {
   "cell_type": "code",
   "execution_count": 212,
   "metadata": {
    "collapsed": false
   },
   "outputs": [
    {
     "name": "stdout",
     "output_type": "stream",
     "text": [
      " [-----------------100%-----------------] 20000 of 20000 complete in 2.4 sec"
     ]
    }
   ],
   "source": [
    "# Set up model\n",
    "\n",
    "p_A = pm.Uniform(\"p_A\", 0, 1)\n",
    "p_B = pm.Uniform(\"p_B\", 0, 1)\n",
    "\n",
    "@pm.deterministic\n",
    "def delta(p_A = p_A, p_B = p_B):\n",
    "    return p_A - p_B\n",
    "\n",
    "obs_A = pm.Bernoulli(\"obs_A\", p_A, value=observations_A,\n",
    "                    observed = True)\n",
    "obs_B = pm.Bernoulli(\"obs_B\", p_B, value=observations_B,\n",
    "                    observed = True)\n",
    "\n",
    "mcmc = pm.MCMC([p_A, p_B, obs_A, obs_B, delta])\n",
    "mcmc.sample(20000, 1000)"
   ]
  },
  {
   "cell_type": "code",
   "execution_count": 213,
   "metadata": {
    "collapsed": false
   },
   "outputs": [
    {
     "data": {
      "image/png": "[encoded data removed]",
      "text/plain": [
       "<matplotlib.figure.Figure at 0x26d96191b70>"
      ]
     },
     "metadata": {},
     "output_type": "display_data"
    }
   ],
   "source": [
    "p_A_samples = mcmc.trace(\"p_A\")[:]\n",
    "p_B_samples = mcmc.trace(\"p_B\")[:]\n",
    "delta_samples = mcmc.trace(\"delta\")[:]\n",
    "\n",
    "plt.hist(p_A_samples, histtype=\"stepfilled\", alpha = 0.5, \n",
    "        bins = 30, label = \"posterior of $p_A$\", normed = True);\n",
    "plt.hist(p_B_samples, histtype=\"stepfilled\", alpha = 0.5, \n",
    "        bins = 30, label = \"posterior of $p_B$\", normed = True);\n",
    "plt.vlines(true_p_A, 0 , 60, label = \"True $p_A$\");\n",
    "plt.vlines(true_p_B, 0 , 60, label = \"True $p_B$\");\n",
    "plt.legend();"
   ]
  },
  {
   "cell_type": "code",
   "execution_count": 215,
   "metadata": {
    "collapsed": false
   },
   "outputs": [
    {
     "data": {
      "image/png": "[encoded data removed]",
      "text/plain": [
       "<matplotlib.figure.Figure at 0x26d975fd860>"
      ]
     },
     "metadata": {},
     "output_type": "display_data"
    }
   ],
   "source": [
    "plt.hist(delta_samples, histtype=\"stepfilled\", alpha = 0.5, \n",
    "        bins = 30, label = \"posterior of $\\delta$\", \n",
    "         normed = True);\n",
    "plt.vlines(true_p_A - true_p_B, 0 , 60, label = \"True delta\");\n",
    "plt.legend();"
   ]
  },
  {
   "cell_type": "code",
   "execution_count": 216,
   "metadata": {
    "collapsed": false
   },
   "outputs": [
    {
     "data": {
      "text/plain": [
       "0.93899999999999995"
      ]
     },
     "execution_count": 216,
     "metadata": {},
     "output_type": "execute_result"
    }
   ],
   "source": [
    "(delta_samples > 0).mean()"
   ]
  },
  {
   "cell_type": "markdown",
   "metadata": {},
   "source": [
    "### PyMC Tricks\n",
    "\n",
    "+ Lighter deterministic variables using `Lambda` class:\n",
    "\n",
    "`beta = pm.Normal(\"coefficients\", 0, size=(N, 1))\n",
    "x = np.random.randn((N, 1))\n",
    "linear_combination = pm.Lambda(lambda x=x, beta=beta: np.dot(x.T, beta))\n",
    "`\n",
    "\n",
    "+ Arrays of PyMC variables\n",
    "\n",
    "`N = 10\n",
    "x = np.empty(N, dtype=object)\n",
    "for i in range(0, N):\n",
    "    x[i] = pm.Exponential('x_%i' % i, (i + 1) ** 2)\n",
    "    `"
   ]
  },
  {
   "cell_type": "markdown",
   "metadata": {},
   "source": [
    "### Challenger Example\n",
    "\n",
    "What is the probability of damage as a function of temperature?"
   ]
  },
  {
   "cell_type": "code",
   "execution_count": 225,
   "metadata": {
    "collapsed": false
   },
   "outputs": [
    {
     "data": {
      "text/plain": [
       "<matplotlib.text.Text at 0x26d962febe0>"
      ]
     },
     "execution_count": 225,
     "metadata": {},
     "output_type": "execute_result"
    },
    {
     "data": {
      "image/png": "[encoded data removed]",
      "text/plain": [
       "<matplotlib.figure.Figure at 0x26d9656e780>"
      ]
     },
     "metadata": {},
     "output_type": "display_data"
    }
   ],
   "source": [
    "challenger_data = np.genfromtxt(\"data/challenger_data.csv\", skip_header=1,\n",
    "                                usecols=[1, 2], missing_values=\"NA\",\n",
    "                                delimiter=\",\")\n",
    "# drop the NA values\n",
    "challenger_data = challenger_data[~np.isnan(challenger_data[:, 1])]\n",
    "\n",
    "# plot it, as a function of temperature (the first column)\n",
    "\n",
    "plt.scatter(challenger_data[:, 0], challenger_data[:, 1], s=100, color=\"k\",\n",
    "            alpha=0.5)\n",
    "plt.yticks([0, 1])\n",
    "plt.ylabel(\"Damage Incident?\")\n",
    "plt.xlabel(\"Outside temperature (Fahrenheit)\")\n",
    "plt.title(\"Defects of the Space Shuttle O-Rings vs temperature\")"
   ]
  },
  {
   "cell_type": "markdown",
   "metadata": {},
   "source": [
    "We'll use a logistic function with a bias term."
   ]
  },
  {
   "cell_type": "code",
   "execution_count": 232,
   "metadata": {
    "collapsed": false
   },
   "outputs": [
    {
     "data": {
      "image/png": "[encoded data removed]",
      "text/plain": [
       "<matplotlib.figure.Figure at 0x26d97892358>"
      ]
     },
     "metadata": {},
     "output_type": "display_data"
    }
   ],
   "source": [
    "def logistic(x, beta, alpha = 0):\n",
    "    return 1.0 / (1.0 + np.exp(beta * x + alpha))\n",
    "\n",
    "x = np.linspace(-4, 4, 100)\n",
    "plt.plot(x, logistic(x, 1, 1), label = r\"$\\beta = 1, \\alpha = 1$\")\n",
    "plt.plot(x, logistic(x, 3, -2), label = r\"$\\beta = 3, \\alpha = -2$\")\n",
    "plt.plot(x, logistic(x, -5, 7), label = r\"$\\beta = -5, \\alpha = 7$\")\n",
    "plt.legend(loc = \"lower left\");"
   ]
  },
  {
   "cell_type": "markdown",
   "metadata": {},
   "source": [
    "\n",
    "\n",
    "Let's start modeling this in PyMC. The $β,α$ parameters have no reason to be positive, bounded or relatively large, so they are best modeled by a Normal random variable, introduced next.\n"
   ]
  },
  {
   "cell_type": "code",
   "execution_count": 235,
   "metadata": {
    "collapsed": true
   },
   "outputs": [],
   "source": [
    "temperature = challenger_data[:,0]\n",
    "D = challenger_data[:,1]\n",
    "\n",
    "beta = pm.Normal(\"beta\", 0, 0.001, value = 0)\n",
    "alpha = pm.Normal(\"alpha\", 0, 0.001, value = 0)\n",
    "\n",
    "@pm.deterministic\n",
    "def p(t = temperature, alpha = alpha, beta = beta):\n",
    "    return 1.0 / (1. + np.exp(beta*t + alpha))"
   ]
  },
  {
   "cell_type": "markdown",
   "metadata": {},
   "source": [
    "Why do we set `value = 0`?\n",
    "\n",
    "We have probabilities, but we need to connect them to our observed data - defects. This is a Bernoulli random variable. Thus the model can look like $Defect D_i \\sim Bern(p(t_i))$\n",
    "\n",
    "\n",
    "Notice in the above code we had to set the values of beta and alpha to 0. The reason for this is that if beta and alpha are very large, they make p equal to 1 or 0. Unfortunately, pm.Bernoulli does not like probabilities of exactly 0 or 1, though they are mathematically well-defined probabilities. So by setting the coefficient values to 0, we set the variable p to be a reasonable starting value. This has no effect on our results, nor does it mean we are including any additional information in our prior. It is simply a computational caveat in PyMC. "
   ]
  },
  {
   "cell_type": "code",
   "execution_count": 236,
   "metadata": {
    "collapsed": false
   },
   "outputs": [
    {
     "data": {
      "text/plain": [
       "array([ 0.5,  0.5,  0.5,  0.5,  0.5,  0.5,  0.5,  0.5,  0.5,  0.5,  0.5,\n",
       "        0.5,  0.5,  0.5,  0.5,  0.5,  0.5,  0.5,  0.5,  0.5,  0.5,  0.5,\n",
       "        0.5])"
      ]
     },
     "execution_count": 236,
     "metadata": {},
     "output_type": "execute_result"
    }
   ],
   "source": [
    "p.value"
   ]
  },
  {
   "cell_type": "code",
   "execution_count": 237,
   "metadata": {
    "collapsed": false
   },
   "outputs": [
    {
     "name": "stdout",
     "output_type": "stream",
     "text": [
      " [-----------------100%-----------------] 120000 of 120000 complete in 11.2 sec"
     ]
    }
   ],
   "source": [
    "observed = pm.Bernoulli(\"bernoulli_obs\", p, value = D, observed = True)\n",
    "model = pm.Model([observed, beta, alpha])\n",
    "\n",
    "map_ = pm.MAP(model)\n",
    "map_.fit()\n",
    "mcmc = pm.MCMC(model)\n",
    "mcmc.sample(120000, 100000, 2)"
   ]
  },
  {
   "cell_type": "code",
   "execution_count": 245,
   "metadata": {
    "collapsed": false
   },
   "outputs": [
    {
     "data": {
      "image/png": "[encoded data removed]",
      "text/plain": [
       "<matplotlib.figure.Figure at 0x26d975e9be0>"
      ]
     },
     "metadata": {},
     "output_type": "display_data"
    }
   ],
   "source": [
    "alpha_samples = mcmc.trace('alpha')[:,None]\n",
    "beta_samples = mcmc.trace('beta')[:,None]\n",
    "\n",
    "plt.hist(alpha_samples, histtype = \"stepfilled\", \n",
    "        bins = 30, normed = True);"
   ]
  },
  {
   "cell_type": "code",
   "execution_count": 246,
   "metadata": {
    "collapsed": false
   },
   "outputs": [
    {
     "data": {
      "image/png": "[encoded data removed]",
      "text/plain": [
       "<matplotlib.figure.Figure at 0x26d9773bac8>"
      ]
     },
     "metadata": {},
     "output_type": "display_data"
    }
   ],
   "source": [
    "plt.hist(beta_samples, histtype = \"stepfilled\", \n",
    "        bins = 30, normed = True);"
   ]
  },
  {
   "cell_type": "markdown",
   "metadata": {},
   "source": [
    "All samples of β\n",
    "β\n",
    " are greater than 0. If instead the posterior was centered around 0, we may suspect that β=0\n",
    "β=0\n",
    ", implying that temperature has no effect on the probability of defect. \n",
    "\n",
    "Similarly, all α\n",
    "α\n",
    " posterior values are negative and far away from 0, implying that it is correct to believe that α\n",
    "α\n",
    " is significantly less than 0. \n",
    "\n",
    "Regarding the spread of the data, we are very uncertain about what the true parameters might be (though considering the low sample size and the large overlap of defects-to-nondefects this behaviour is perhaps expected). \n",
    "\n",
    "Next, let's look at the expected probability for a specific value of the temperature. That is, we average over all samples from the posterior to get a likely value for p(ti)"
   ]
  },
  {
   "cell_type": "code",
   "execution_count": 255,
   "metadata": {
    "collapsed": false
   },
   "outputs": [
    {
     "data": {
      "text/plain": [
       "(10000, 50)"
      ]
     },
     "execution_count": 255,
     "metadata": {},
     "output_type": "execute_result"
    }
   ],
   "source": [
    "t = np.linspace(temperature.min() - 5, \n",
    "               temperature.max() + 5, 50)[:, None]\n",
    "p_t = logistic(t.T, beta_samples, alpha_samples)\n",
    "mean_prob_t = p_t.mean(axis = 0)"
   ]
  },
  {
   "cell_type": "code",
   "execution_count": 259,
   "metadata": {
    "collapsed": false
   },
   "outputs": [
    {
     "data": {
      "image/png": "[encoded data removed]",
      "text/plain": [
       "<matplotlib.figure.Figure at 0x26d97d6e2b0>"
      ]
     },
     "metadata": {},
     "output_type": "display_data"
    }
   ],
   "source": [
    "plt.plot(t, mean_prob_t, lw=3, label = \"avg posterior prob of defect\")\n",
    "plt.legend();\n",
    "plt.xlabel(\"Temperature\");\n",
    "plt.ylabel(\"Probability\");"
   ]
  },
  {
   "cell_type": "markdown",
   "metadata": {},
   "source": [
    "Let's plot the 95% interval"
   ]
  },
  {
   "cell_type": "code",
   "execution_count": 262,
   "metadata": {
    "collapsed": false
   },
   "outputs": [
    {
     "data": {
      "image/png": "[encoded data removed]",
      "text/plain": [
       "<matplotlib.figure.Figure at 0x26d98e1ff60>"
      ]
     },
     "metadata": {},
     "output_type": "display_data"
    }
   ],
   "source": [
    "from scipy.stats.mstats import mquantiles\n",
    "\n",
    "qs = mquantiles(p_t, [0.025, 0.975], axis = 0)\n",
    "plt.plot(t, mean_prob_t, lw=3, label = \"avg posterior prob of defect\")\n",
    "plt.fill_between(t[:,0], *qs, alpha = 0.4, color ='b');"
   ]
  },
  {
   "cell_type": "markdown",
   "metadata": {},
   "source": [
    "As temp approached 60, we are fairly confident that failure might have occurred.\n",
    "\n",
    "Let's look at the day of the challenger disaster with temp at 31."
   ]
  },
  {
   "cell_type": "code",
   "execution_count": 269,
   "metadata": {
    "collapsed": false
   },
   "outputs": [
    {
     "data": {
      "text/plain": [
       "(0.995, 1)"
      ]
     },
     "execution_count": 269,
     "metadata": {},
     "output_type": "execute_result"
    },
    {
     "data": {
      "image/png": "[encoded data removed]",
      "text/plain": [
       "<matplotlib.figure.Figure at 0x26d978944a8>"
      ]
     },
     "metadata": {},
     "output_type": "display_data"
    }
   ],
   "source": [
    "prob_31 = logistic(31, beta_samples, alpha_samples)\n",
    "\n",
    "plt.hist(prob_31, bins = 1000, normed= True, \n",
    "        histtype = \"stepfilled\");\n",
    "plt.xlim(0.995, 1)"
   ]
  },
  {
   "cell_type": "markdown",
   "metadata": {},
   "source": [
    "### Goodness of Fit\n",
    "\n",
    "\n",
    "We can think: how can we test whether our model is a bad fit? An idea is to compare observed data (which if we recall is a fixed stochastic variable) with an artificial dataset which we can simulate. The rationale is that if the simulated dataset does not appear similar, statistically, to the observed dataset, then likely our model is not accurately represented the observed data. "
   ]
  },
  {
   "cell_type": "code",
   "execution_count": 271,
   "metadata": {
    "collapsed": false
   },
   "outputs": [
    {
     "name": "stdout",
     "output_type": "stream",
     "text": [
      " [-----------------100%-----------------] 10000 of 10000 complete in 2.1 sec"
     ]
    }
   ],
   "source": [
    "simulated_data = pm.Bernoulli(\"simulation_data\", p)\n",
    "N = 10000\n",
    "\n",
    "mcmc = pm.MCMC([simulated_data, alpha, beta, observed])\n",
    "mcmc.sample(N)"
   ]
  },
  {
   "cell_type": "code",
   "execution_count": 272,
   "metadata": {
    "collapsed": false
   },
   "outputs": [
    {
     "name": "stdout",
     "output_type": "stream",
     "text": [
      "(10000, 23)\n"
     ]
    }
   ],
   "source": [
    "simulations = mcmc.trace(\"simulation_data\")[:]\n",
    "print(simulations.shape)"
   ]
  },
  {
   "cell_type": "code",
   "execution_count": 273,
   "metadata": {
    "collapsed": true
   },
   "outputs": [],
   "source": [
    "posterior_probability = simulations.mean(axis=0)"
   ]
  },
  {
   "cell_type": "code",
   "execution_count": 276,
   "metadata": {
    "collapsed": false
   },
   "outputs": [
    {
     "name": "stdout",
     "output_type": "stream",
     "text": [
      "Prob | Defect\n",
      "0.02  |   0\n",
      "0.03  |   0\n",
      "0.03  |   0\n",
      "0.06  |   0\n",
      "0.06  |   0\n",
      "0.07  |   0\n",
      "0.07  |   1\n",
      "0.11  |   0\n",
      "0.12  |   0\n",
      "0.18  |   0\n",
      "0.18  |   1\n",
      "0.18  |   1\n",
      "0.18  |   0\n",
      "0.22  |   0\n",
      "0.26  |   0\n",
      "0.29  |   0\n",
      "0.30  |   0\n",
      "0.30  |   0\n",
      "0.35  |   0\n",
      "0.51  |   1\n",
      "0.75  |   1\n",
      "0.79  |   1\n",
      "0.89  |   1\n"
     ]
    }
   ],
   "source": [
    "ix = np.argsort(posterior_probability)\n",
    "print(\"Prob | Defect\")\n",
    "for i in range(len(D)):\n",
    "    print(\"%.2f  |   %d\" % (posterior_probability[ix[i]], D[ix[i]]))"
   ]
  },
  {
   "cell_type": "code",
   "execution_count": 277,
   "metadata": {
    "collapsed": false
   },
   "outputs": [
    {
     "ename": "ImportError",
     "evalue": "No module named 'separation_plot'",
     "output_type": "error",
     "traceback": [
      "\u001b[1;31m---------------------------------------------------------------------------\u001b[0m",
      "\u001b[1;31mImportError\u001b[0m                               Traceback (most recent call last)",
      "\u001b[1;32m<ipython-input-277-f278d4b6f14b>\u001b[0m in \u001b[0;36m<module>\u001b[1;34m()\u001b[0m\n\u001b[1;32m----> 1\u001b[1;33m \u001b[1;32mfrom\u001b[0m \u001b[0mseparation_plot\u001b[0m \u001b[1;32mimport\u001b[0m \u001b[0mseparation_plot\u001b[0m\u001b[1;33m\u001b[0m\u001b[0m\n\u001b[0m\u001b[0;32m      2\u001b[0m \u001b[1;33m\u001b[0m\u001b[0m\n\u001b[0;32m      3\u001b[0m \u001b[1;33m\u001b[0m\u001b[0m\n\u001b[0;32m      4\u001b[0m \u001b[0mseparation_plot\u001b[0m\u001b[1;33m(\u001b[0m\u001b[0mposterior_probability\u001b[0m\u001b[1;33m,\u001b[0m \u001b[0mD\u001b[0m\u001b[1;33m)\u001b[0m\u001b[1;33m\u001b[0m\u001b[0m\n",
      "\u001b[1;31mImportError\u001b[0m: No module named 'separation_plot'"
     ]
    }
   ],
   "source": [
    "from separation_plot import separation_plot\n",
    "\n",
    "\n",
    "separation_plot(posterior_probability, D)"
   ]
  },
  {
   "cell_type": "code",
   "execution_count": 279,
   "metadata": {
    "collapsed": false
   },
   "outputs": [
    {
     "data": {
      "text/plain": [
       "<matplotlib.collections.PathCollection at 0x26d9796e2b0>"
      ]
     },
     "execution_count": 279,
     "metadata": {},
     "output_type": "execute_result"
    },
    {
     "data": {
      "image/png": "[encoded data removed]",
      "text/plain": [
       "<matplotlib.figure.Figure at 0x26d97d8aba8>"
      ]
     },
     "metadata": {},
     "output_type": "display_data"
    }
   ],
   "source": [
    "plt.scatter(alpha_samples, beta_samples)"
   ]
  },
  {
   "cell_type": "code",
   "execution_count": null,
   "metadata": {
    "collapsed": true
   },
   "outputs": [],
   "source": []
  }
 ],
 "metadata": {
  "anaconda-cloud": {},
  "kernelspec": {
   "display_name": "Python 2",
   "language": "python",
   "name": "python2"
  },
  "language_info": {
   "codemirror_mode": {
    "name": "ipython",
    "version": 2
   },
   "file_extension": ".py",
   "mimetype": "text/x-python",
   "name": "python",
   "nbconvert_exporter": "python",
   "pygments_lexer": "ipython2",
   "version": "2.7.12"
  }
 },
 "nbformat": 4,
 "nbformat_minor": 0
}
