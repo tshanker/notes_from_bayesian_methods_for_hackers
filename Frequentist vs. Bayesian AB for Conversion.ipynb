{
 "cells": [
  {
   "cell_type": "code",
   "execution_count": 19,
   "metadata": {
    "collapsed": false
   },
   "outputs": [],
   "source": [
    "import pymc as pm\n",
    "import matplotlib.pyplot as plt\n",
    "%matplotlib inline\n",
    "from rpy2.robjects import r\n",
    "import numpy as np"
   ]
  },
  {
   "cell_type": "markdown",
   "metadata": {},
   "source": [
    "# Experiment Set Up\n",
    "\n",
    "First let's consider an experiment where we're trying to compare the conversion rate between control (do nothing) and treatment (sales call).\n",
    "\n",
    "Suppose that the control has a conversion rate of 10% and treatment is 5% better than control."
   ]
  },
  {
   "cell_type": "code",
   "execution_count": 90,
   "metadata": {
    "collapsed": true
   },
   "outputs": [],
   "source": [
    "true_c = 0.05\n",
    "true_delta = 0.05\n",
    "true_t = true_c * (1+ true_delta)"
   ]
  },
  {
   "cell_type": "code",
   "execution_count": 91,
   "metadata": {
    "collapsed": false
   },
   "outputs": [
    {
     "data": {
      "text/plain": [
       "0.052500000000000005"
      ]
     },
     "execution_count": 91,
     "metadata": {},
     "output_type": "execute_result"
    }
   ],
   "source": [
    "true_t"
   ]
  },
  {
   "cell_type": "markdown",
   "metadata": {},
   "source": [
    "## Frequentist Setup"
   ]
  },
  {
   "cell_type": "markdown",
   "metadata": {},
   "source": [
    "In the frequentist set up, we would start off with a power analysis. How many samples do we need in order to achieve 80% power to detect a 5% difference in conversion rates between treatment and control with 95% confidence?"
   ]
  },
  {
   "cell_type": "code",
   "execution_count": 79,
   "metadata": {
    "collapsed": false
   },
   "outputs": [
    {
     "data": {
      "text/plain": [
       "244246.0"
      ]
     },
     "execution_count": 79,
     "metadata": {},
     "output_type": "execute_result"
    }
   ],
   "source": [
    "r.assign('remotep1', true_c)\n",
    "r.assign('remotep2', true_t)\n",
    "\n",
    "bucket_size = r('round(power.prop.test(p1 = remotep1, p2 = remotep2, sig.level=.05, power=0.80)$n)')[0]\n",
    "sample_size = 2*bucket_size\n",
    "sample_size"
   ]
  },
  {
   "cell_type": "code",
   "execution_count": 80,
   "metadata": {
    "collapsed": false
   },
   "outputs": [
    {
     "name": "stdout",
     "output_type": "stream",
     "text": [
      "0.0533724196097\n",
      "0.0496712331011\n"
     ]
    }
   ],
   "source": [
    "n_t = bucket_size\n",
    "n_c = bucket_size\n",
    "\n",
    "observations_t = pm.rbernoulli(true_t, n_t)\n",
    "observations_c = pm.rbernoulli(true_c, n_c)\n",
    "\n",
    "print(observations_t.mean())\n",
    "print(observations_c.mean())"
   ]
  },
  {
   "cell_type": "code",
   "execution_count": null,
   "metadata": {
    "collapsed": true
   },
   "outputs": [],
   "source": []
  },
  {
   "cell_type": "markdown",
   "metadata": {},
   "source": [
    "## Bayesian A/B"
   ]
  },
  {
   "cell_type": "code",
   "execution_count": 81,
   "metadata": {
    "collapsed": false
   },
   "outputs": [
    {
     "name": "stdout",
     "output_type": "stream",
     "text": [
      " [-----------------100%-----------------] 20000 of 20000 complete in 37.5 sec"
     ]
    }
   ],
   "source": [
    "conv_t = pm.Uniform(\"conv_t\", 0, 1)\n",
    "conv_c = pm.Uniform(\"conv_c\", 0, 1)\n",
    "\n",
    "obs_t = pm.Bernoulli(\"obs_t\", conv_t, \n",
    "                    value = observations_t,\n",
    "                    observed = True)\n",
    "\n",
    "obs_c = pm.Bernoulli(\"obs_t\", conv_c, \n",
    "                    value = observations_c,\n",
    "                    observed = True)\n",
    "\n",
    "@pm.deterministic\n",
    "def delta(conv_t = conv_t, conv_c = conv_c):\n",
    "    return (conv_t - conv_c) / conv_c\n",
    "\n",
    "mcmc = pm.MCMC([conv_t, conv_c, obs_t, obs_c, delta])\n",
    "mcmc.sample(20000, 1000)"
   ]
  },
  {
   "cell_type": "code",
   "execution_count": 82,
   "metadata": {
    "collapsed": false
   },
   "outputs": [
    {
     "data": {
      "image/png": "[encoded data removed]",
      "text/plain": [
       "<matplotlib.figure.Figure at 0x1203f8850>"
      ]
     },
     "metadata": {},
     "output_type": "display_data"
    }
   ],
   "source": [
    "conv_t_samples = mcmc.trace(\"conv_t\")[:]\n",
    "conv_c_samples = mcmc.trace(\"conv_c\")[:]\n",
    "delta_samples = mcmc.trace(\"delta\")[:]\n",
    "\n",
    "plt.hist(conv_t_samples, histtype=\"stepfilled\", alpha = 0.5, \n",
    "        bins = 50, label = \"posterior of treatment\", normed = True);\n",
    "plt.hist(conv_c_samples, histtype=\"stepfilled\", alpha = 0.5, \n",
    "        bins = 50, label = \"posterior of control\", normed = True);\n",
    "plt.vlines(true_t, 0 , 60, label = \"True $p_A$\");\n",
    "plt.vlines(true_c, 0 , 60, label = \"True $p_B$\");\n",
    "plt.legend();"
   ]
  },
  {
   "cell_type": "code",
   "execution_count": 83,
   "metadata": {
    "collapsed": false
   },
   "outputs": [
    {
     "data": {
      "image/png": "[encoded data removed]",
      "text/plain": [
       "<matplotlib.figure.Figure at 0x1203f8bd0>"
      ]
     },
     "metadata": {},
     "output_type": "display_data"
    }
   ],
   "source": [
    "plt.hist(delta_samples, histtype=\"stepfilled\", alpha = 0.5, \n",
    "        bins = 30, label = \"posterior of $\\delta$\", \n",
    "         normed = True);\n",
    "plt.vlines(true_delta, 0 , 60, label = \"True delta\");\n",
    "plt.legend();"
   ]
  },
  {
   "cell_type": "markdown",
   "metadata": {},
   "source": [
    "Probability that treatment is better than control:"
   ]
  },
  {
   "cell_type": "code",
   "execution_count": 84,
   "metadata": {
    "collapsed": false
   },
   "outputs": [
    {
     "data": {
      "text/plain": [
       "1.0"
      ]
     },
     "execution_count": 84,
     "metadata": {},
     "output_type": "execute_result"
    }
   ],
   "source": [
    "(delta_samples > 0).mean()"
   ]
  },
  {
   "cell_type": "markdown",
   "metadata": {},
   "source": [
    "30th percentile of lift:"
   ]
  },
  {
   "cell_type": "code",
   "execution_count": 85,
   "metadata": {
    "collapsed": false
   },
   "outputs": [
    {
     "data": {
      "text/plain": [
       "0.067346181213380304"
      ]
     },
     "execution_count": 85,
     "metadata": {},
     "output_type": "execute_result"
    }
   ],
   "source": [
    "np.percentile(delta_samples, 30)"
   ]
  },
  {
   "cell_type": "markdown",
   "metadata": {},
   "source": [
    "### Expected Revenues"
   ]
  },
  {
   "cell_type": "markdown",
   "metadata": {},
   "source": [
    "Suppose that the treatment (sales call) costs \\$50 per customer and that each conversion is worth \\$500 in LTV. Let's calculate expected revenues."
   ]
  },
  {
   "cell_type": "code",
   "execution_count": 86,
   "metadata": {
    "collapsed": false
   },
   "outputs": [],
   "source": [
    "cost_per_customer = 2\n",
    "rev_per_customer = 1000\n",
    "revenue_c = (rev_per_customer*conv_c_samples)\n",
    "revenue_t = (rev_per_customer*conv_t_samples - cost_per_customer)"
   ]
  },
  {
   "cell_type": "code",
   "execution_count": 87,
   "metadata": {
    "collapsed": false
   },
   "outputs": [
    {
     "data": {
      "image/png": "[encoded data removed]",
      "text/plain": [
       "<matplotlib.figure.Figure at 0x1202bd7d0>"
      ]
     },
     "metadata": {},
     "output_type": "display_data"
    }
   ],
   "source": [
    "plt.hist(revenue_c, histtype=\"stepfilled\", alpha = 0.5, \n",
    "        bins = 30, label = \"Control Revenue\", normed = True);\n",
    "plt.hist(revenue_t, histtype=\"stepfilled\", alpha = 0.5, \n",
    "        bins = 30, label = \"Treatment Revenue\", normed = True);\n",
    "plt.legend();"
   ]
  },
  {
   "cell_type": "code",
   "execution_count": 88,
   "metadata": {
    "collapsed": false
   },
   "outputs": [
    {
     "data": {
      "image/png": "[encoded data removed]",
      "text/plain": [
       "<matplotlib.figure.Figure at 0x121d9ee50>"
      ]
     },
     "metadata": {},
     "output_type": "display_data"
    }
   ],
   "source": [
    "plt.hist(revenue_t - revenue_c, histtype=\"stepfilled\", alpha = 0.5, \n",
    "        bins = 30, label = \"Incremental Revenue\", normed = True);\n",
    "plt.legend();"
   ]
  },
  {
   "cell_type": "code",
   "execution_count": 89,
   "metadata": {
    "collapsed": false
   },
   "outputs": [
    {
     "name": "stdout",
     "output_type": "stream",
     "text": [
      "Probability of losing money: 0.021\n"
     ]
    }
   ],
   "source": [
    "print(\"Probability of losing money: %0.3f\" % ((revenue_t - revenue_c)<0).mean())"
   ]
  },
  {
   "cell_type": "code",
   "execution_count": null,
   "metadata": {
    "collapsed": false
   },
   "outputs": [],
   "source": []
  },
  {
   "cell_type": "code",
   "execution_count": null,
   "metadata": {
    "collapsed": true
   },
   "outputs": [],
   "source": []
  }
 ],
 "metadata": {
  "kernelspec": {
   "display_name": "Python 2",
   "language": "python",
   "name": "python2"
  },
  "language_info": {
   "codemirror_mode": {
    "name": "ipython",
    "version": 2
   },
   "file_extension": ".py",
   "mimetype": "text/x-python",
   "name": "python",
   "nbconvert_exporter": "python",
   "pygments_lexer": "ipython2",
   "version": "2.7.12"
  }
 },
 "nbformat": 4,
 "nbformat_minor": 0
}
