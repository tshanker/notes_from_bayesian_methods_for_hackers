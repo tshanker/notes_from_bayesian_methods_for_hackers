{
 "cells": [
  {
   "cell_type": "markdown",
   "metadata": {},
   "source": [
    "# Coin Flip Example\n",
    "\n",
    "How do you update your belief based on new data? In the following example, vary n_trials (size of the dataset) and see how the distribution becomes more and more narrow, eventually converging to the true ratio of heads to tails."
   ]
  },
  {
   "cell_type": "code",
   "execution_count": 1,
   "metadata": {
    "collapsed": true
   },
   "outputs": [],
   "source": [
    "%matplotlib inline\n",
    "import numpy as np\n",
    "from matplotlib import pyplot as plt\n",
    "\n",
    "import scipy.stats as stats\n",
    "\n",
    "# Define the data\n",
    "dist = stats.beta\n",
    "n_trials = 50\n",
    "data = stats.bernoulli.rvs(0.5, size = n_trials)\n",
    "x = np.linspace(0, 1, 100)"
   ]
  },
  {
   "cell_type": "code",
   "execution_count": 2,
   "metadata": {
    "collapsed": false
   },
   "outputs": [
    {
     "data": {
      "text/plain": [
       "<matplotlib.legend.Legend at 0x27b7f273da0>"
      ]
     },
     "execution_count": 2,
     "metadata": {},
     "output_type": "execute_result"
    },
    {
     "data": {
      "image/png": "[encoded data removed]",
      "text/plain": [
       "<matplotlib.figure.Figure at 0x27b7f0aaf60>"
      ]
     },
     "metadata": {},
     "output_type": "display_data"
    }
   ],
   "source": [
    "plt.xlabel(\"$p$ Probability of Heads\")\n",
    "heads = data.sum()\n",
    "y = dist.pdf(x, 1 + heads, 1 + n_trials - heads)\n",
    "plt.plot(x, y, label = \"Observe %d tosses,\\n %d heads\" % (n_trials, heads))\n",
    "plt.fill_between(x, 0 ,y, color=\"#348ABD\", alpha=0.8)\n",
    "plt.xlim(0.2, 0.8)\n",
    "plt.legend()"
   ]
  },
  {
   "cell_type": "markdown",
   "metadata": {},
   "source": [
    "# Probability Distributions\n",
    "\n",
    "## Types of Random Variables\n",
    "\n",
    "1. $Z$ is discrete\n",
    "1. $Z$ is continuous\n",
    "1. $Z$ is mixed\n",
    "\n",
    "## Discrete Case\n",
    "\n",
    "### Poisson Distribution\n",
    "\n",
    "$P(Z=k) = \\frac{\\lambda^{k}e^{-\\lambda}}{k!}, k = 0, 1, 2,..$\n",
    "\n",
    "$E[Z|\\lambda] = \\lambda$\n",
    "\n",
    "\n",
    "## Continuous Case\n",
    "\n",
    "### Exponential Distribution\n",
    "\n",
    "$f_{z}(Z|\\lambda) = \\lambda e ^ {-\\lambda z}, z \\geq 0$ \n",
    "\n",
    "$E[Z|\\lambda] = \\dfrac{1}{\\lambda}$"
   ]
  },
  {
   "cell_type": "markdown",
   "metadata": {},
   "source": [
    "# Introduction to PyMC\n",
    "\n",
    "This is done using the text messaging data. First, let's read in the data:"
   ]
  },
  {
   "cell_type": "code",
   "execution_count": 3,
   "metadata": {
    "collapsed": false
   },
   "outputs": [
    {
     "data": {
      "text/plain": [
       "<Container object of 74 artists>"
      ]
     },
     "execution_count": 3,
     "metadata": {},
     "output_type": "execute_result"
    },
    {
     "data": {
      "image/png": "[encoded data removed]",
      "text/plain": [
       "<matplotlib.figure.Figure at 0x27b7fb45b70>"
      ]
     },
     "metadata": {},
     "output_type": "display_data"
    }
   ],
   "source": [
    "count_data = np.loadtxt(\"data/txtdata.csv\")\n",
    "n_count_data = len(count_data)\n",
    "plt.bar(np.arange(n_count_data), count_data)"
   ]
  },
  {
   "cell_type": "markdown",
   "metadata": {},
   "source": [
    "We are interested in seeing if the volume of text messages increased after a certain point. For this, we consider three parameters:\n",
    "\n",
    "1. $\\tau$ - Number of days at which behavior changes\n",
    "1. $\\lambda_1$ - Poisson mean of text messages before switch\n",
    "1. $\\lambda_2$ - Poisson mean of text messages after switch\n",
    "\n",
    "Let the $\\lambda$s have an exponential distribution with *hyper parameter* $\\alpha$.\n",
    "\n",
    "Now let's model all this using PyMC."
   ]
  },
  {
   "cell_type": "code",
   "execution_count": 4,
   "metadata": {
    "collapsed": false
   },
   "outputs": [],
   "source": [
    "import pymc as pm\n",
    "alpha = 1.0 / count_data.mean()\n",
    "\n",
    "lambda_1 = pm.Exponential(\"lambda_1\", alpha)\n",
    "lambda_2 = pm.Exponential(\"lambda_2\", alpha)\n",
    "\n",
    "tau = pm.DiscreteUniform(\"tau\", lower = 0, upper = n_count_data)"
   ]
  },
  {
   "cell_type": "code",
   "execution_count": 5,
   "metadata": {
    "collapsed": false
   },
   "outputs": [],
   "source": [
    "@pm.deterministic\n",
    "def lambda_(tau = tau, lambda_1 = lambda_1, lambda_2 = lambda_2):\n",
    "    out = np.zeros(n_count_data)\n",
    "    out[:tau] = lambda_1\n",
    "    out[tau:] = lambda_2\n",
    "    return out"
   ]
  },
  {
   "cell_type": "code",
   "execution_count": 6,
   "metadata": {
    "collapsed": false
   },
   "outputs": [
    {
     "name": "stdout",
     "output_type": "stream",
     "text": [
      " [-----------------100%-----------------] 70000 of 70000 complete in 17.0 sec"
     ]
    }
   ],
   "source": [
    "observation = pm.Poisson(\"obs\", lambda_, value = count_data, observed = True)\n",
    "model = pm.Model([observation, tau, lambda_1, lambda_2])\n",
    "mcmc = pm.MCMC(model)\n",
    "mcmc.sample(70000, 10000, 1)"
   ]
  },
  {
   "cell_type": "code",
   "execution_count": 7,
   "metadata": {
    "collapsed": false
   },
   "outputs": [],
   "source": [
    "lambda_1_samples = mcmc.trace(\"lambda_1\")[:]\n",
    "lambda_2_samples = mcmc.trace(\"lambda_2\")[:]\n",
    "tau_samples = mcmc.trace(\"tau\")[:]\n"
   ]
  },
  {
   "cell_type": "code",
   "execution_count": 8,
   "metadata": {
    "collapsed": false
   },
   "outputs": [
    {
     "data": {
      "image/png": "[encoded data removed]",
      "text/plain": [
       "<matplotlib.figure.Figure at 0x27b0249aac8>"
      ]
     },
     "metadata": {},
     "output_type": "display_data"
    }
   ],
   "source": [
    "plt.hist(lambda_1_samples, histtype=\"stepfilled\", bins = 30, alpha = 0.5, normed = True, label = \"Posterior of $\\lambda_1$\");\n",
    "plt.hist(lambda_2_samples, histtype=\"stepfilled\", bins = 30, alpha = 0.5, normed = True, label = \"Posterior of $\\lambda_2$\");\n",
    "plt.ylim(0, 1);\n",
    "plt.legend();"
   ]
  },
  {
   "cell_type": "code",
   "execution_count": 9,
   "metadata": {
    "collapsed": false
   },
   "outputs": [
    {
     "data": {
      "text/plain": [
       "(0, 74)"
      ]
     },
     "execution_count": 9,
     "metadata": {},
     "output_type": "execute_result"
    },
    {
     "data": {
      "image/png": "[encoded data removed]",
      "text/plain": [
       "<matplotlib.figure.Figure at 0x27b025d07b8>"
      ]
     },
     "metadata": {},
     "output_type": "display_data"
    }
   ],
   "source": [
    "plt.hist(tau_samples, histtype=\"stepfilled\", bins = 30, alpha = 0.5, normed = True, label = \"Posterior of $\\tau$\");\n",
    "plt.xlim(0, n_count_data)"
   ]
  },
  {
   "cell_type": "markdown",
   "metadata": {},
   "source": [
    "### Quantities of Interest"
   ]
  },
  {
   "cell_type": "code",
   "execution_count": 12,
   "metadata": {
    "collapsed": false
   },
   "outputs": [
    {
     "data": {
      "text/plain": [
       "17.753132205341064"
      ]
     },
     "execution_count": 12,
     "metadata": {},
     "output_type": "execute_result"
    }
   ],
   "source": [
    "lambda_1_samples.mean()\n"
   ]
  },
  {
   "cell_type": "code",
   "execution_count": 13,
   "metadata": {
    "collapsed": false
   },
   "outputs": [
    {
     "data": {
      "text/plain": [
       "22.709758747033938"
      ]
     },
     "execution_count": 13,
     "metadata": {},
     "output_type": "execute_result"
    }
   ],
   "source": [
    "lambda_2_samples.mean()"
   ]
  },
  {
   "cell_type": "code",
   "execution_count": 19,
   "metadata": {
    "collapsed": false
   },
   "outputs": [
    {
     "data": {
      "image/png": "[encoded data removed]",
      "text/plain": [
       "<matplotlib.figure.Figure at 0x27b03787828>"
      ]
     },
     "metadata": {},
     "output_type": "display_data"
    }
   ],
   "source": [
    "perc_increase = 1 - lambda_1_samples/lambda_2_samples\n",
    "perc_increase.mean()\n",
    "plt.hist(perc_increase, histtype = \"stepfilled\", bins = 30);"
   ]
  },
  {
   "cell_type": "code",
   "execution_count": 20,
   "metadata": {
    "collapsed": false
   },
   "outputs": [
    {
     "data": {
      "text/plain": [
       "17.748900741719112"
      ]
     },
     "execution_count": 20,
     "metadata": {},
     "output_type": "execute_result"
    }
   ],
   "source": [
    "ix = tau_samples < 45\n",
    "lambda_1_samples[ix].mean()"
   ]
  },
  {
   "cell_type": "code",
   "execution_count": null,
   "metadata": {
    "collapsed": true
   },
   "outputs": [],
   "source": []
  }
 ],
 "metadata": {
  "anaconda-cloud": {},
  "kernelspec": {
   "display_name": "Python [Root]",
   "language": "python",
   "name": "Python [Root]"
  },
  "language_info": {
   "codemirror_mode": {
    "name": "ipython",
    "version": 3
   },
   "file_extension": ".py",
   "mimetype": "text/x-python",
   "name": "python",
   "nbconvert_exporter": "python",
   "pygments_lexer": "ipython3",
   "version": "3.5.2"
  }
 },
 "nbformat": 4,
 "nbformat_minor": 0
}
